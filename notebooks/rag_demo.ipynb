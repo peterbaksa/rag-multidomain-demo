{
 "cells": [
  {
   "metadata": {},
   "cell_type": "markdown",
   "source": "# Demonstration of RAG Architecture:\n",
   "id": "8c272a47c1f600f1"
  },
  {
   "metadata": {
    "ExecuteTime": {
     "end_time": "2025-05-22T12:06:06.315535Z",
     "start_time": "2025-05-22T12:06:06.311120Z"
    }
   },
   "cell_type": "code",
   "source": [
    "# Prepare OpenAI API Keys\n",
    "\n",
    "import os\n",
    "from dotenv import load_dotenv\n",
    "load_dotenv()\n",
    "\n",
    "OPENAI_API_KEY = os.getenv('OPENAI_API_KEY')"
   ],
   "id": "23e07c5c6faa0a80",
   "outputs": [],
   "execution_count": 6
  },
  {
   "metadata": {},
   "cell_type": "markdown",
   "source": "# Loader\n",
   "id": "8d4efcb2acc253d1"
  },
  {
   "metadata": {
    "ExecuteTime": {
     "end_time": "2025-05-22T12:06:08.005798Z",
     "start_time": "2025-05-22T12:06:06.326540Z"
    }
   },
   "cell_type": "code",
   "source": [
    "from langchain_community.document_loaders import PyPDFLoader\n",
    "\n",
    "file_path = \"../data/Python_Programming.pdf\"\n",
    "loader = PyPDFLoader(file_path)\n",
    "documents = loader.load()"
   ],
   "id": "913990601d9459b8",
   "outputs": [],
   "execution_count": 7
  },
  {
   "metadata": {},
   "cell_type": "markdown",
   "source": "# Splitter",
   "id": "6851ea626860e94a"
  },
  {
   "metadata": {
    "ExecuteTime": {
     "end_time": "2025-05-22T12:06:08.024437Z",
     "start_time": "2025-05-22T12:06:08.013769Z"
    }
   },
   "cell_type": "code",
   "source": [
    "from langchain.text_splitter import RecursiveCharacterTextSplitter\n",
    "splitter = RecursiveCharacterTextSplitter(\n",
    "        chunk_size=800,\n",
    "        chunk_overlap=100,\n",
    "        separators=[\"\\n\\n\", \"\\n\", \" \", \"\"],\n",
    "    )\n",
    "chunked_docs = splitter.split_documents(documents)"
   ],
   "id": "2f59dc00404ba7e9",
   "outputs": [],
   "execution_count": 8
  },
  {
   "metadata": {},
   "cell_type": "markdown",
   "source": "# Embeddings",
   "id": "1a9fb79d70436b2c"
  },
  {
   "metadata": {
    "ExecuteTime": {
     "end_time": "2025-05-22T12:06:08.490899Z",
     "start_time": "2025-05-22T12:06:08.034350Z"
    }
   },
   "cell_type": "code",
   "source": [
    "from langchain_openai.embeddings import OpenAIEmbeddings\n",
    "embedding_model = OpenAIEmbeddings(openai_api_key=OPENAI_API_KEY)"
   ],
   "id": "8a6c615a5ea12fc0",
   "outputs": [],
   "execution_count": 9
  },
  {
   "metadata": {},
   "cell_type": "markdown",
   "source": "# Vector Store",
   "id": "7584e4ef356d33c5"
  },
  {
   "metadata": {
    "ExecuteTime": {
     "end_time": "2025-05-22T12:06:11.875332Z",
     "start_time": "2025-05-22T12:06:08.499228Z"
    }
   },
   "cell_type": "code",
   "source": [
    "from langchain_community.vectorstores import FAISS\n",
    "vectorstore = FAISS.from_documents(documents, embedding_model)"
   ],
   "id": "3c5ac42ae4763fbc",
   "outputs": [],
   "execution_count": 10
  },
  {
   "metadata": {},
   "cell_type": "markdown",
   "source": "# Retriever",
   "id": "a175a4f7dc6eea6f"
  },
  {
   "metadata": {
    "ExecuteTime": {
     "end_time": "2025-05-22T12:06:11.904365Z",
     "start_time": "2025-05-22T12:06:11.900695Z"
    }
   },
   "cell_type": "code",
   "source": "retriever = vectorstore.as_retriever()",
   "id": "686bc0e62683f2a6",
   "outputs": [],
   "execution_count": 11
  },
  {
   "metadata": {},
   "cell_type": "markdown",
   "source": "# Chain",
   "id": "3dd8746ad84dd378"
  },
  {
   "metadata": {
    "ExecuteTime": {
     "end_time": "2025-05-22T12:06:36.121669Z",
     "start_time": "2025-05-22T12:06:35.669630Z"
    }
   },
   "cell_type": "code",
   "source": [
    "from langchain.chains import RetrievalQA\n",
    "from langchain_openai import ChatOpenAI\n",
    "\n",
    "\n",
    "llm_model = ChatOpenAI(api_key=OPENAI_API_KEY, temperature=0)\n",
    "\n",
    "qa_chain = RetrievalQA.from_chain_type(\n",
    "    llm=llm_model,\n",
    "    chain_type=\"stuff\",  # default behavior: stuff all docs into prompt\n",
    "    retriever=retriever,\n",
    "    return_source_documents=False\n",
    ")"
   ],
   "id": "ad7150a50ef447ef",
   "outputs": [],
   "execution_count": 14
  },
  {
   "metadata": {},
   "cell_type": "markdown",
   "source": "# Invoke",
   "id": "dfaf656746d9b881"
  },
  {
   "metadata": {
    "ExecuteTime": {
     "end_time": "2025-05-22T12:09:28.952590Z",
     "start_time": "2025-05-22T12:09:27.000073Z"
    }
   },
   "cell_type": "code",
   "source": [
    "question = \"What is an Anaconda ? \"\n",
    "answer = qa_chain.invoke(question)\n",
    "print(f\"A: {answer.get('result', 'No answer found.')}\")"
   ],
   "id": "3b16ea253a3d4b21",
   "outputs": [
    {
     "name": "stdout",
     "output_type": "stream",
     "text": [
      "A: Anaconda is a Python Distribution package, not an Editor. It includes tools like Spyder and Anaconda Navigator, which allow users to manage Python packages, launch applications, and create Python virtual environments. Anaconda is available for Windows, macOS, and Linux.\n"
     ]
    }
   ],
   "execution_count": 17
  },
  {
   "metadata": {},
   "cell_type": "markdown",
   "source": "![](../readme_images/anaconda.png)",
   "id": "a33fed18399fb1df"
  },
  {
   "metadata": {},
   "cell_type": "code",
   "outputs": [],
   "execution_count": null,
   "source": "",
   "id": "234595fe352c44c7"
  }
 ],
 "metadata": {
  "kernelspec": {
   "name": "python3",
   "language": "python",
   "display_name": "Python 3 (ipykernel)"
  }
 },
 "nbformat": 5,
 "nbformat_minor": 9
}
